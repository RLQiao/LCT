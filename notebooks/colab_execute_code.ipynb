{
  "cells": [
    {
      "cell_type": "code",
      "execution_count": null,
      "id": "b2252d6f",
      "metadata": {
        "id": "b2252d6f"
      },
      "outputs": [],
      "source": [
        "# import tools\n",
        "import pandas as pd\n",
        "import numpy as np\n",
        "from sklearn import svm\n",
        "from sklearn.model_selection import train_test_split\n",
        "from sklearn import metrics\n",
        "from statistics import mean\n",
        "import json\n",
        "import scipy.io\n",
        "import os\n",
        "import re\n",
        "import math\n",
        "import matplotlib.pyplot as plt"
      ]
    },
    {
      "cell_type": "code",
      "source": [
        "from google.colab import drive\n",
        "drive.mount('/gdrive', force_remount=True)"
      ],
      "metadata": {
        "colab": {
          "base_uri": "https://localhost:8080/"
        },
        "id": "kVh2ZAem19jn",
        "outputId": "9ca604b5-dc4a-4db5-a8e3-fe803f1059bc"
      },
      "id": "kVh2ZAem19jn",
      "execution_count": null,
      "outputs": [
        {
          "output_type": "stream",
          "name": "stdout",
          "text": [
            "Mounted at /gdrive\n"
          ]
        }
      ]
    },
    {
      "cell_type": "code",
      "execution_count": null,
      "id": "6b782a1c",
      "metadata": {
        "id": "6b782a1c"
      },
      "outputs": [],
      "source": [
        "sessions = [\"0826_1000\", \"0825_1300\", \"0830_1300\", \"0819_1400\",\n",
        "    \"0817_1000\", \"0831_1300\", \"0901_1300\", \"0827_1000\", \"0811_1000\",\n",
        "    \"0920_1600\", \"0823_1400\", \"1005_1600\", \"0828_1300\", #\"0818_1000\",\n",
        "    \"0816_1400\", \"0930_1700\", \"0917_1030\", \"0727_1400\", \"0928_1600\",\n",
        "    \"0818_1600\", \"0802_1400\", \"0927_0930\", \"0915_1000\", \"0825_1000\",\n",
        "    \"0824_1600\", \"0826_1300\", \"0813_1000\", \"0924_1000\", \"0806_1000\",\n",
        "    \"0923_1000\", \"0901_1000\", \"0824_1000\", \"0831_1000\", \"0731_1000\",\n",
        "    \"0923_1600\", \"0922_1000\", \"0924_1600\", \"0813_1600\"];"
      ]
    },
    {
      "cell_type": "code",
      "source": [
        "# For maintaineance conviniency, tools.py functions are laid out.\n",
        "def get_report(session):\n",
        "    report = open('/gdrive/My Drive/LCT data/try3/report.txt', 'r')\n",
        "    desktop = None\n",
        "    for line in report.readlines():\n",
        "        if session in line:\n",
        "            desktops = line.partition('desktop ')[-1]\n",
        "            desktop = desktops.split(',')[:-1]\n",
        "    if desktop is None:\n",
        "        raise ValueError('Unable to fetch desktop information')\n",
        "\n",
        "    return desktop\n",
        "\n",
        "def eeg_all_timestamps():\n",
        "    sessions = [\"0826_1000\", \"0825_1300\", \"0830_1300\", \"0819_1400\",\n",
        "    \"0817_1000\", \"0831_1300\", \"0901_1300\", \"0827_1000\", \"0811_1000\",\n",
        "    \"0920_1600\", \"0823_1400\", \"1005_1600\", \"0828_1300\", #\"0818_1000\",\n",
        "    \"0816_1400\", \"0930_1700\", \"0917_1030\", \"0727_1400\", \"0928_1600\",\n",
        "    \"0818_1600\", \"0802_1400\", \"0927_0930\", \"0915_1000\", \"0825_1000\",\n",
        "    \"0824_1600\", \"0826_1300\", \"0813_1000\", \"0924_1000\", \"0806_1000\",\n",
        "    \"0923_1000\", \"0901_1000\", \"0824_1000\", \"0831_1000\", \"0731_1000\",\n",
        "    \"0923_1600\", \"0922_1000\", \"0924_1600\", \"0813_1600\"];\n",
        "\n",
        "    all_timestamps = scipy.io.loadmat('/gdrive/My Drive/LCT data/try3/all_timestamps.mat')\n",
        "    all_timestamps2 = scipy.io.loadmat('/gdrive/My Drive/LCT data/try3/all_timestamps2.mat')\n",
        "\n",
        "    EEG_ALL_Timestamps = dict()\n",
        "    for i in range(13):\n",
        "        session_timestamps = dict()\n",
        "        num_desktop = len(all_timestamps['all_timestamps'][0][i][1][0])\n",
        "        for j in range(num_desktop):\n",
        "            desktop = all_timestamps['all_timestamps'][0][i][1][0][j][0][0]\n",
        "            timestamp = [float(all_timestamps['all_timestamps'][0][i][1][0][j][1][0]),\n",
        "                         float(all_timestamps['all_timestamps'][0][i][1][0][j][2][0])]\n",
        "            session_timestamps[desktop] = timestamp\n",
        "        EEG_ALL_Timestamps[sessions[i]] = session_timestamps\n",
        "\n",
        "    for i in range(24):\n",
        "        session_timestamps = dict()\n",
        "        num_desktop = len(all_timestamps2['all_timestamps'][0][i][1][0])\n",
        "        for j in range(num_desktop):\n",
        "            desktop = all_timestamps2['all_timestamps'][0][i][1][0][j][0][0]\n",
        "            timestamp = [float(all_timestamps2['all_timestamps'][0][i][1][0][j][1][0]),\n",
        "                         float(all_timestamps2['all_timestamps'][0][i][1][0][j][2][0])]\n",
        "            session_timestamps[desktop] = timestamp\n",
        "        EEG_ALL_Timestamps[sessions[13+i]] = session_timestamps\n",
        "\n",
        "    return EEG_ALL_Timestamps\n",
        "\n",
        "def eeg_timestamp(session, desktop):\n",
        "    EEG_ALL_Timestamps = eeg_all_timestamps()\n",
        "    for key in EEG_ALL_Timestamps.keys():\n",
        "        if key == session:\n",
        "            desktops = EEG_ALL_Timestamps[session]\n",
        "            for value in desktops.keys():\n",
        "                if value == \"DESKTOP-\" + desktop:\n",
        "                    EEG_start_time = desktops[value][0]\n",
        "                    EEG_end_time = desktops[value][1]\n",
        "    return EEG_start_time, EEG_end_time\n",
        "\n",
        "def load_data(session, desktop):\n",
        "    '''\n",
        "    Parameter: a string that specifies the session that we want to look at\n",
        "    return: json_data and eeg_data corresponding to the session\n",
        "    '''\n",
        "    json_path = '/gdrive/My Drive/LCT data/json'\n",
        "    eeg_path = '/gdrive/My Drive/LCT data/try3/processed'\n",
        "    json_list = os.listdir(json_path)\n",
        "    eeg_list = os.listdir(eeg_path)\n",
        "    json_data = eeg_data = None\n",
        "\n",
        "    for file in json_list:\n",
        "        if session in file and desktop in file:\n",
        "            json_data = json.load(open(os.path.join(json_path, file)))\n",
        "    for file in eeg_list:\n",
        "        if session in file and desktop in file:\n",
        "            eeg_data = scipy.io.loadmat(os.path.join(eeg_path, file))['preprocessed_EEG']\n",
        "    if json_data is None:\n",
        "        raise ValueError('No behavioral data for session', session, ' or', desktop)\n",
        "    if eeg_data is None:\n",
        "        raise ValueError('No eeg data for session', session, ' or', desktop)\n",
        "    # cropp eeg data\n",
        "    eeg_first_timestamp, eeg_last_timestamp = eeg_timestamp(session, desktop)\n",
        "    json_start_time = json_data['details']['initial timestamp']\n",
        "    json_end_time = json_data['details']['final timestamp']\n",
        "    if (abs(eeg_first_timestamp - json_start_time) > 10e-2) & (eeg_first_timestamp < json_start_time):\n",
        "        init_offset = abs(eeg_first_timestamp - json_start_time)\n",
        "        eeg_data = eeg_data[:20, round(init_offset*256):]\n",
        "        print('Inital offset applied')\n",
        "    else:\n",
        "        print('No initial offset')\n",
        "    if (abs(eeg_last_timestamp - json_end_time) > 10e-2) & (eeg_last_timestamp > json_end_time):\n",
        "        end_offset = abs(eeg_last_timestamp - json_end_time)\n",
        "        end = eeg_data.shape[1]\n",
        "        eeg_data = eeg_data[:20, :round(end-end_offset*256)] # without timescroll\n",
        "        print('End offset applied')\n",
        "    else:\n",
        "        print('No end offset')\n",
        "    return json_data, eeg_data\n",
        "\n",
        "def trial_timestamps_condition(json_data):\n",
        "    init_timestamps = [] # 2sec before trial was presented\n",
        "    end_timestamps = [] # 2sec after trial was presented\n",
        "    gamble_number = []\n",
        "    ambiguity = []\n",
        "    condition = []\n",
        "    num_trials = len(json_data['trials'])\n",
        "    for i in range(num_trials):\n",
        "        if len(json_data['trials'][i]['lct']) >= 3:\n",
        "            # selecting 2sec before and after the initial stimuli is presented\n",
        "            init_timestamps.append(json_data['trials'][i]['lct'][0]['time']+1)\n",
        "            end_timestamps.append(json_data['trials'][i]['lct'][0]['time']+3)\n",
        "            gamble_number.append(json_data['trials'][i]['lct'][0]['event']['parameters']['gamble']['gamble number'])\n",
        "            ambiguity.append(json_data['trials'][i]['lct'][0]['event']['parameters']['gamble']['ambiguity'])\n",
        "            condition.append(json_data['trials'][i]['lct'][0]['event']['parameters']['gamble']['condition'])\n",
        "        else:\n",
        "            gamble = json_data['trials'][i]['lct'][0]['event']['parameters']['gamble']['gamble number']\n",
        "            trial = json_data['trials'][i]['lct'][0]['event']['parameters']['trial number']\n",
        "            print('Trial', trial, 'gamble', gamble, 'not submitted at this round')\n",
        "#     if (submission_timestamps - presented_timestamps < 10 for i in range(132)): print('Timestamps ready')\n",
        "#     else: print('Error: Decision time exceeds 10 seconds.')\n",
        "\n",
        "    return init_timestamps, end_timestamps, gamble_number, ambiguity, condition\n",
        "\n",
        "def create_dataframe(session, desktop, json_data, eeg_data):\n",
        "    json_start_time = json_data['details']['initial timestamp']\n",
        "    init_timestamps, end_timestamps, gamble_number, ambiguity, condition = trial_timestamps_condition(json_data)\n",
        "    eeg = []\n",
        "    for i in range(132):\n",
        "        start_idx = round(init_timestamps[i] - json_start_time) * 256\n",
        "        end_idx = round(end_timestamps[i] - json_start_time) * 256\n",
        "        trial_eeg = eeg_data[:, start_idx:end_idx]\n",
        "        eeg.append(trial_eeg)\n",
        "\n",
        "    result = {'desktop': [desktop] * 132,\n",
        "              'session' : [session] * 132,\n",
        "              'gamble number': gamble_number,\n",
        "              'condition' : condition,\n",
        "              'ambiguity' : ambiguity,\n",
        "              'eeg' : eeg}\n",
        "\n",
        "    return pd.DataFrame(result)"
      ],
      "metadata": {
        "id": "g2-YiA-l4k-b"
      },
      "id": "g2-YiA-l4k-b",
      "execution_count": null,
      "outputs": []
    },
    {
      "cell_type": "code",
      "execution_count": null,
      "id": "16b4adc7",
      "metadata": {
        "id": "16b4adc7"
      },
      "outputs": [],
      "source": [
        "# random_states = [109, 51, 111, 17, 172, 36, 223, 84]"
      ]
    },
    {
      "cell_type": "code",
      "execution_count": null,
      "id": "875908ac",
      "metadata": {
        "colab": {
          "base_uri": "https://localhost:8080/"
        },
        "id": "875908ac",
        "outputId": "55a8de1a-a918-4532-f15b-d1d1e723952b"
      },
      "outputs": [
        {
          "output_type": "execute_result",
          "data": {
            "text/plain": [
              "['U9TEJGM', '9M4VCHG']"
            ]
          },
          "metadata": {},
          "execution_count": 5
        }
      ],
      "source": [
        "session = '1005_1600'\n",
        "desktop = get_report(session)\n",
        "desktop"
      ]
    },
    {
      "cell_type": "code",
      "execution_count": null,
      "id": "2e341f24",
      "metadata": {
        "colab": {
          "base_uri": "https://localhost:8080/"
        },
        "id": "2e341f24",
        "outputId": "9f605368-8201-4131-ee59-ae4e68fdb884"
      },
      "outputs": [
        {
          "output_type": "stream",
          "name": "stdout",
          "text": [
            "No initial offset\n",
            "End offset applied\n",
            "No initial offset\n",
            "End offset applied\n"
          ]
        }
      ],
      "source": [
        "json_data_1, eeg_data_1 = load_data(session, desktop[0])\n",
        "json_data_2, eeg_data_2 = load_data(session, desktop[1])"
      ]
    },
    {
      "cell_type": "code",
      "execution_count": null,
      "id": "85a14a1e",
      "metadata": {
        "id": "85a14a1e",
        "colab": {
          "base_uri": "https://localhost:8080/"
        },
        "outputId": "28b43ae1-5d06-4157-8f22-4d1e7ed001ff"
      },
      "outputs": [
        {
          "output_type": "stream",
          "name": "stdout",
          "text": [
            "Trial 1 gamble 20 not submitted at this round\n",
            "Trial 1 gamble 63 not submitted at this round\n"
          ]
        }
      ],
      "source": [
        "df_1 = create_dataframe(session, desktop[0], json_data_1, eeg_data_1)\n",
        "df_2 = create_dataframe(session, desktop[1], json_data_2, eeg_data_2)\n",
        "df = pd.concat([df_1, df_2])\n",
        "df = df.reset_index()"
      ]
    },
    {
      "cell_type": "code",
      "execution_count": null,
      "id": "dc8006a9",
      "metadata": {
        "id": "dc8006a9"
      },
      "outputs": [],
      "source": [
        "# if [df['eeg'][i].shape[1] == 512 for i in range(len(df))]:\n",
        "#     print('shape matched')"
      ]
    },
    {
      "cell_type": "code",
      "execution_count": null,
      "id": "c7ad1615",
      "metadata": {
        "id": "c7ad1615"
      },
      "outputs": [],
      "source": [
        "df_social = df[df['condition']=='social'].reset_index()\n",
        "df_computer = df[df['condition']=='computer'].reset_index()"
      ]
    },
    {
      "cell_type": "markdown",
      "source": [
        "##### svm"
      ],
      "metadata": {
        "id": "NTius30n5qHK"
      },
      "id": "NTius30n5qHK"
    },
    {
      "cell_type": "code",
      "execution_count": null,
      "id": "b7275d45",
      "metadata": {
        "id": "b7275d45"
      },
      "outputs": [],
      "source": [
        "# train_test_split balance\n",
        "# X_social = np.array([df_social['eeg'][i] for i in range(132)]).reshape(132, 10240)\n",
        "# X_computer = np.array([df_computer['eeg'][i] for i in range(132)]).reshape(132, 10240)\n",
        "# y_social = np.array([df_social['condition'][i] for i in range(132)])\n",
        "# y_computer = np.array([df_computer['condition'][i] for i in range(132)])"
      ]
    },
    {
      "cell_type": "code",
      "execution_count": null,
      "id": "37d51701",
      "metadata": {
        "id": "37d51701"
      },
      "outputs": [],
      "source": [
        "# svm\n",
        "# acc = []\n",
        "# svm_classifier = svm.SVC()\n",
        "# for random_state in random_states:\n",
        "#     X_train_social, X_test_social, y_train_social, y_test_social = train_test_split(X_social, y_social, test_size=0.3, random_state=random_state)\n",
        "#     X_train_computer, X_test_computer, y_train_computer, y_test_computer = train_test_split(X_computer, y_computer, test_size=0.3, random_state=random_state)\n",
        "#     X_train = np.concatenate((X_train_social, X_train_computer), axis=0)\n",
        "#     y_train = np.concatenate((y_train_social, y_train_computer), axis=0)\n",
        "#     X_test = np.concatenate((X_test_social, X_test_computer), axis=0)\n",
        "#     y_test = np.concatenate((y_test_social, y_test_computer), axis=0)\n",
        "#     svm_classifier.fit(X_train, y_train)\n",
        "#     y_pred = svm_classifier.predict(X_test)\n",
        "#     acc.append(metrics.accuracy_score(y_test, y_pred))"
      ]
    },
    {
      "cell_type": "code",
      "execution_count": null,
      "id": "60012ac0",
      "metadata": {
        "id": "60012ac0"
      },
      "outputs": [],
      "source": [
        "# selecting 1-3 sec after wheels appeared on screen\n",
        "# mean(acc)"
      ]
    },
    {
      "cell_type": "markdown",
      "id": "263f98ac",
      "metadata": {
        "id": "263f98ac"
      },
      "source": [
        "#### preprare data for EEGNet\n",
        "\n",
        "For class balance sake, I split social/computer conditions seperately and then do concat + shuffle."
      ]
    },
    {
      "cell_type": "code",
      "source": [
        "def data_loader(df_social, df_computer, random_state):\n",
        "  # separate computer/social\n",
        "  X_social = np.array([df_social['eeg'][i] for i in range(132)])\n",
        "  X_social = np.transpose(X_social, axes = (0,2,1))\n",
        "  X_computer = np.array([df_computer['eeg'][i] for i in range(132)])\n",
        "  X_computer = np.transpose(X_computer, axes = (0,2,1))\n",
        "  y_social = np.zeros(len(X_social))\n",
        "  y_computer = np.ones(len(X_computer))\n",
        "  # train/val/test split\n",
        "  X_train_social, X_test_social, y_train_social, y_test_social = train_test_split(X_social, y_social, test_size=0.4, random_state=random_state)\n",
        "  X_train_computer, X_test_computer, y_train_computer, y_test_computer = train_test_split(X_computer, y_computer, test_size=0.4, random_state=random_state)\n",
        "  X_val_social, X_test_social, y_val_social, y_test_social = train_test_split(X_test_social, y_test_social, test_size=0.5, random_state=random_state)\n",
        "  X_val_computer, X_test_computer, y_val_computer, y_test_computer = train_test_split(X_test_computer, y_test_computer, test_size=0.5, random_state=random_state)\n",
        "  # concate social/computer\n",
        "  X_train = np.concatenate((X_train_social, X_train_computer), axis=0).reshape(158, 1, 512, 20)\n",
        "  y_train = np.concatenate((y_train_social, y_train_computer), axis=0)\n",
        "  X_val = np.concatenate((X_val_social, X_val_computer), axis=0).reshape(52, 1, 512, 20)\n",
        "  y_val = np.concatenate((y_val_social, y_val_computer), axis=0)\n",
        "  X_test = np.concatenate((X_test_social, X_test_computer), axis=0).reshape(54, 1, 512, 20)\n",
        "  y_test = np.concatenate((y_test_social, y_test_computer), axis=0)\n",
        "  # shuffle train/val/test sets\n",
        "  train_indices = np.arange(X_train.shape[0])\n",
        "  np.random.shuffle(train_indices)\n",
        "  X_train = X_train[train_indices]\n",
        "  y_train = y_train[train_indices]\n",
        "\n",
        "  val_indices = np.arange(X_val.shape[0])\n",
        "  np.random.shuffle(val_indices)\n",
        "  X_val = X_val[val_indices]\n",
        "  y_val = y_val[val_indices]\n",
        "\n",
        "  test_indices = np.arange(X_test.shape[0])\n",
        "  np.random.shuffle(test_indices)\n",
        "  X_test = X_test[test_indices]\n",
        "  y_test = y_test[test_indices]\n",
        "\n",
        "  return X_train, X_val, X_test, y_train, y_val, y_test"
      ],
      "metadata": {
        "id": "8Nmo31ZqEL3p"
      },
      "id": "8Nmo31ZqEL3p",
      "execution_count": null,
      "outputs": []
    },
    {
      "cell_type": "code",
      "execution_count": null,
      "id": "a13eaf43",
      "metadata": {
        "id": "a13eaf43"
      },
      "outputs": [],
      "source": [
        "# EEGNet: https://github.com/aliasvishnu/EEGNet/blob/master/EEGNet-PyTorch.ipynb\n",
        "import numpy as np\n",
        "from sklearn.metrics import roc_auc_score, precision_score, recall_score, accuracy_score\n",
        "import torch\n",
        "import torch.nn as nn\n",
        "import torch.optim as optim\n",
        "from torch.autograd import Variable\n",
        "import torch.nn.functional as F\n",
        "import torch.optim as optim"
      ]
    },
    {
      "cell_type": "code",
      "source": [
        "class EEGNet(nn.Module):\n",
        "    def __init__(self):\n",
        "        super(EEGNet, self).__init__()\n",
        "        self.T = 120\n",
        "\n",
        "        # Layer 1\n",
        "        self.conv1 = nn.Conv2d(1, 16, (1, 20), padding = 0)\n",
        "        self.batchnorm1 = nn.BatchNorm2d(16, False)\n",
        "\n",
        "        # Layer 2\n",
        "        self.padding1 = nn.ZeroPad2d((16, 17, 0, 1))\n",
        "        self.conv2 = nn.Conv2d(1, 4, (2, 32))\n",
        "        self.batchnorm2 = nn.BatchNorm2d(4, False)\n",
        "        self.pooling2 = nn.MaxPool2d(2, 4)\n",
        "\n",
        "        # Layer 3\n",
        "        self.padding2 = nn.ZeroPad2d((2, 1, 4, 3))\n",
        "        self.conv3 = nn.Conv2d(4, 4, (8, 4))\n",
        "        self.batchnorm3 = nn.BatchNorm2d(4, False)\n",
        "        self.pooling3 = nn.MaxPool2d((2, 4))\n",
        "\n",
        "        # FC Layer\n",
        "        # NOTE: This dimension will depend on the number of timestamps per sample in your data.\n",
        "        # 4*2*32 is the output size from the last hidden layer for input_size=(512, 20)\n",
        "        self.fc1 = nn.Linear(4*2*32, 1)\n",
        "\n",
        "\n",
        "    def forward(self, x):\n",
        "        # Layer 1\n",
        "        x = F.elu(self.conv1(x))\n",
        "        x = self.batchnorm1(x)\n",
        "        x = F.dropout(x, 0.25)\n",
        "        x = x.permute(0, 3, 1, 2)\n",
        "\n",
        "        # Layer 2\n",
        "        x = self.padding1(x)\n",
        "        x = F.elu(self.conv2(x))\n",
        "        x = self.batchnorm2(x)\n",
        "        x = F.dropout(x, 0.25)\n",
        "        x = self.pooling2(x)\n",
        "\n",
        "        # Layer 3\n",
        "        x = self.padding2(x)\n",
        "        x = F.elu(self.conv3(x))\n",
        "        x = self.batchnorm3(x)\n",
        "        x = F.dropout(x, 0.25)\n",
        "        x = self.pooling3(x)\n",
        "\n",
        "        # FC Layer\n",
        "        x = x.contiguous()\n",
        "        x = x.view(-1, 4*2*32)\n",
        "        x = F.sigmoid(self.fc1(x))\n",
        "        return x\n",
        "\n",
        "\n",
        "model = EEGNet().cuda(0)\n",
        "print(model.forward(Variable(torch.Tensor(np.random.rand(1, 1, 512, 20)).cuda(0))))"
      ],
      "metadata": {
        "colab": {
          "base_uri": "https://localhost:8080/"
        },
        "id": "I0B3JTMmJB8E",
        "outputId": "a63feda0-2706-4c1e-dfde-ebaf3a4dfa68"
      },
      "id": "I0B3JTMmJB8E",
      "execution_count": null,
      "outputs": [
        {
          "output_type": "stream",
          "name": "stdout",
          "text": [
            "tensor([[0.9032]], device='cuda:0', grad_fn=<SigmoidBackward0>)\n"
          ]
        }
      ]
    },
    {
      "cell_type": "code",
      "source": [
        "test_accuracy = []\n",
        "train_accuracy = []\n",
        "val_accuracy = []\n",
        "for i in range(10):\n",
        "  model = EEGNet().cuda(0)\n",
        "  random_state = np.random.choice(80)\n",
        "  X_train, X_val, X_test, y_train, y_val, y_test = data_loader(df_social, df_computer, random_state)\n",
        "  criterion = nn.BCELoss()\n",
        "  optimizer = optim.Adam(model.parameters(), lr=0.01)\n",
        "  batch_size = 32\n",
        "  # num_epoch = 10\n",
        "  predicted = []\n",
        "  train_losses = []\n",
        "  val_losses = []\n",
        "\n",
        "  for epoch in range(16):\n",
        "    model.train()\n",
        "    total_train_loss = 0.0\n",
        "\n",
        "    # Training\n",
        "    for i in range(len(X_train)//batch_size-1):\n",
        "      s = i*batch_size\n",
        "      e = i*batch_size+batch_size\n",
        "      inputs = torch.from_numpy(X_train[s:e])\n",
        "      labels = torch.FloatTensor(np.array([y_train[s:e]]).T*1.0)\n",
        "      # wrap them in Variable\n",
        "      inputs, labels = Variable(inputs.cuda(0)), Variable(labels.cuda(0))\n",
        "      outputs = model(inputs)\n",
        "      loss = criterion(outputs, labels)\n",
        "      loss.backward()\n",
        "      optimizer.step()\n",
        "      total_train_loss += loss.item()\n",
        "    predicted = outputs.data.cpu().numpy()\n",
        "    labels = torch.FloatTensor(np.array([y_train[s:e]]).T*1.0)\n",
        "    train_accuracy.append(roc_auc_score(labels, np.round(predicted)))\n",
        "\n",
        "    # Average training loss for the epoch\n",
        "    avg_train_loss = total_train_loss / len(inputs)\n",
        "    train_losses.append(avg_train_loss)\n",
        "\n",
        "    # Validation\n",
        "    model.eval()\n",
        "    total_val_loss = 0.0\n",
        "\n",
        "    with torch.no_grad():\n",
        "      inputs = torch.from_numpy(X_val)\n",
        "      labels = torch.FloatTensor(np.array([y_val]).T*1.0)\n",
        "      inputs, labels = Variable(inputs.cuda(0)), Variable(labels.cuda(0))\n",
        "      outputs = model(inputs)\n",
        "      val_loss = criterion(outputs, labels)\n",
        "      total_val_loss += val_loss.item()\n",
        "      predicted = outputs.data.cpu().numpy()\n",
        "      labels = torch.FloatTensor(np.array([y_val]).T*1.0)\n",
        "      val_accuracy.append(roc_auc_score(labels, np.round(predicted)))\n",
        "\n",
        "      # Average validation loss for the epoch\n",
        "      avg_val_loss = total_val_loss / len(inputs)\n",
        "      val_losses.append(avg_val_loss)\n",
        "\n",
        "  # Test accuracy\n",
        "  model.eval()\n",
        "  with torch.no_grad():\n",
        "    inputs = torch.from_numpy(X_test)\n",
        "    labels = torch.FloatTensor(np.array([y_test]).T*1.0)\n",
        "    inputs, labels = Variable(inputs.cuda(0)), Variable(labels.cuda(0))\n",
        "    outputs = model(inputs)\n",
        "    predicted = outputs.data.cpu().numpy()\n",
        "    labels = torch.FloatTensor(np.array([y_test]).T*1.0)\n",
        "    test_accuracy.append(roc_auc_score(labels, np.round(predicted)))"
      ],
      "metadata": {
        "id": "HXkqVQG3La8X"
      },
      "id": "HXkqVQG3La8X",
      "execution_count": null,
      "outputs": []
    },
    {
      "cell_type": "code",
      "source": [
        "max(val_accuracy), max(train_accuracy), max(test_accuracy)"
      ],
      "metadata": {
        "colab": {
          "base_uri": "https://localhost:8080/"
        },
        "id": "40_tOY-SJF21",
        "outputId": "0809586a-754d-4201-aafb-5cdd2cf978df"
      },
      "id": "40_tOY-SJF21",
      "execution_count": null,
      "outputs": [
        {
          "output_type": "execute_result",
          "data": {
            "text/plain": [
              "(0.6346153846153846, 0.8809523809523809, 0.6111111111111112)"
            ]
          },
          "metadata": {},
          "execution_count": 107
        }
      ]
    },
    {
      "cell_type": "code",
      "source": [
        "dic = ['lr = 0.001': (0.673076923076923, 0.8319838056680162, 0.5185185185185185),\n",
        "       'lr = 0.002': (0.5961538461538461, 0.8166666666666668, 0.5740740740740741),\n",
        "       'lr = 0.005': (0.6346153846153846, 0.9, 0.5555555555555556)\n",
        "       'lr = 0.01': (0.6538461538461537, 0.7301587301587301, 0.5925925925925926),\n",
        "       'lr = 0.05': (0.6346153846153847, 0.746031746031746, 0.5740740740740741),\n",
        "       'lr = 0.1': (0.6153846153846154, 0.7619047619047621, 0.5370370370370371)]"
      ],
      "metadata": {
        "id": "6hyXtEo8OauF"
      },
      "id": "6hyXtEo8OauF",
      "execution_count": null,
      "outputs": []
    },
    {
      "cell_type": "code",
      "source": [
        "plt.plot(range(1, 17), train_losses, label='Train Loss')\n",
        "plt.plot(range(1, 17), val_losses, label='Val Loss')\n",
        "plt.xlabel('Epochs')\n",
        "plt.ylabel('Loss')\n",
        "plt.legend()\n",
        "plt.show()"
      ],
      "metadata": {
        "id": "dZCiQR4Pxq1X",
        "colab": {
          "base_uri": "https://localhost:8080/",
          "height": 449
        },
        "outputId": "0baccbc2-da51-4f23-a9f5-aa2a3e8fe19b"
      },
      "id": "dZCiQR4Pxq1X",
      "execution_count": null,
      "outputs": [
        {
          "output_type": "display_data",
          "data": {
            "text/plain": [
              "<Figure size 640x480 with 1 Axes>"
            ],
            "image/png": "[encoded data removed]"
          },
          "metadata": {}
        }
      ]
    },
    {
      "cell_type": "code",
      "source": [
        "# criterion = nn.BCELoss()\n",
        "# optimizer = optim.Adam(model.parameters(), lr=0.01)\n",
        "# batch_size = 16\n",
        "# num_epoch = 16\n",
        "# predicted = []\n",
        "# train_losses = []\n",
        "# val_losses = []\n",
        "\n",
        "# for epoch in range(16):\n",
        "#   model.train()\n",
        "#   total_train_loss = 0.0\n",
        "\n",
        "#   # Training\n",
        "#   for i in range(len(X_train)//batch_size-1):\n",
        "#     s = i*batch_size\n",
        "#     e = i*batch_size+batch_size\n",
        "#     inputs = torch.from_numpy(X_train[s:e])\n",
        "#     labels = torch.FloatTensor(np.array([y_train[s:e]]).T*1.0)\n",
        "#     # wrap them in Variable\n",
        "#     inputs, labels = Variable(inputs.cuda(0)), Variable(labels.cuda(0))\n",
        "#     outputs = model(inputs)\n",
        "#     loss = criterion(outputs, labels)\n",
        "#     loss.backward()\n",
        "#     optimizer.step()\n",
        "#     total_train_loss += loss.item()\n",
        "\n",
        "#   # Average training loss for the epoch\n",
        "#   avg_train_loss = total_train_loss / len(inputs)\n",
        "#   train_losses.append(avg_train_loss)\n",
        "\n",
        "#   # Validation\n",
        "#   model.eval()\n",
        "#   total_val_loss = 0.0\n",
        "\n",
        "#   with torch.no_grad():\n",
        "#     inputs = torch.from_numpy(X_val)\n",
        "#     labels = torch.FloatTensor(np.array([y_val]).T*1.0)\n",
        "#     inputs, labels = Variable(inputs.cuda(0)), Variable(labels.cuda(0))\n",
        "#     outputs = model(inputs)\n",
        "#     val_loss = criterion(outputs, labels)\n",
        "#     total_val_loss += val_loss.item()\n",
        "\n",
        "#     # Average validation loss for the epoch\n",
        "#     avg_val_loss = total_val_loss / len(inputs)\n",
        "#     val_losses.append(avg_val_loss)"
      ],
      "metadata": {
        "id": "I4lg2DZBxqvg"
      },
      "id": "I4lg2DZBxqvg",
      "execution_count": null,
      "outputs": []
    },
    {
      "cell_type": "markdown",
      "source": [
        "#### Power spectrum analysis"
      ],
      "metadata": {
        "id": "uhi8SaPRRlQH"
      },
      "id": "uhi8SaPRRlQH"
    },
    {
      "cell_type": "code",
      "source": [
        "eeg_data_1[0].shape"
      ],
      "metadata": {
        "colab": {
          "base_uri": "https://localhost:8080/"
        },
        "id": "wbViyogcRuAE",
        "outputId": "8420ac4c-d647-45a4-ef7f-3c3f062933c0"
      },
      "id": "wbViyogcRuAE",
      "execution_count": null,
      "outputs": [
        {
          "output_type": "execute_result",
          "data": {
            "text/plain": [
              "(190587,)"
            ]
          },
          "metadata": {},
          "execution_count": 119
        }
      ]
    },
    {
      "cell_type": "code",
      "source": [
        "from scipy.signal import welch\n",
        "\n",
        "sampling_rate = 256  # Replace this with your actual sampling rate\n",
        "# Define the frequency bands\n",
        "frequency_bands = {\n",
        "    'Delta': (0.5, 4),\n",
        "    'Theta': (4, 8),\n",
        "    'Alpha': (8, 13),\n",
        "    'Beta': (13, 30),\n",
        "    'Gamma': (30, 40)\n",
        "}\n",
        "\n",
        "# Compute the power spectral density (PSD) using Welch method\n",
        "frequencies, power_spectrum = welch(eeg_data_1[0], fs=sampling_rate)\n",
        "\n",
        "# # Plot the original EEG signal\n",
        "# plt.figure(figsize=(12, 6))\n",
        "# plt.subplot(2, 1, 1)\n",
        "# plt.plot(np.arange(len(eeg_data_1)) / sampling_rate, eeg_data_1)\n",
        "# plt.title('Original EEG Signal')\n",
        "# plt.xlabel('Time (seconds)')\n",
        "# plt.ylabel('Amplitude')\n",
        "\n",
        "# # Plot the power spectral density\n",
        "# plt.subplot(2, 1, 2)\n",
        "# plt.plot(frequencies, 10 * np.log10(power_spectrum))\n",
        "# plt.title('Power Spectral Density (PSD)')\n",
        "# plt.xlabel('Frequency (Hz)')\n",
        "# plt.ylabel('Power/Frequency (dB/Hz)')\n",
        "# plt.xlim(0, 40)  # Set the frequency range for better visualization\n",
        "# plt.tight_layout()\n",
        "# plt.show()\n",
        "\n",
        "## Extract power in each frequency band\n",
        "# band_powers = {}\n",
        "# for band, (low, high) in frequency_bands.items():\n",
        "#     indices = np.where((frequencies >= low) & (frequencies <= high))\n",
        "#     band_power = np.trapz(10 ** (power_spectrum[indices] / 10), frequencies[indices])\n",
        "#     band_powers[band] = band_power\n",
        "\n",
        "# # Print the band powers\n",
        "# print(\"Band Powers:\")\n",
        "# for band, power in band_powers.items():\n",
        "#     print(f\"{band}: {power} uV^2/Hz\")"
      ],
      "metadata": {
        "id": "uNoyKfxZPyIA"
      },
      "id": "uNoyKfxZPyIA",
      "execution_count": null,
      "outputs": []
    },
    {
      "cell_type": "code",
      "source": [],
      "metadata": {
        "id": "CdT58_7RTRWv"
      },
      "id": "CdT58_7RTRWv",
      "execution_count": null,
      "outputs": []
    }
  ],
  "metadata": {
    "kernelspec": {
      "display_name": "Python 3",
      "name": "python3"
    },
    "language_info": {
      "codemirror_mode": {
        "name": "ipython",
        "version": 3
      },
      "file_extension": ".py",
      "mimetype": "text/x-python",
      "name": "python",
      "nbconvert_exporter": "python",
      "pygments_lexer": "ipython3",
      "version": "3.9.12"
    },
    "colab": {
      "provenance": [],
      "machine_shape": "hm"
    }
  },
  "nbformat": 4,
  "nbformat_minor": 5
}