{
 "cells": [
  {
   "cell_type": "code",
   "execution_count": 1,
   "id": "b2252d6f",
   "metadata": {},
   "outputs": [],
   "source": [
    "import tools"
   ]
  },
  {
   "cell_type": "code",
   "execution_count": 2,
   "id": "875908ac",
   "metadata": {},
   "outputs": [],
   "source": [
    "session = '1005_1600'\n",
    "desktop = tools.get_report(session)[0]"
   ]
  },
  {
   "cell_type": "code",
   "execution_count": 3,
   "id": "2e341f24",
   "metadata": {},
   "outputs": [
    {
     "name": "stdout",
     "output_type": "stream",
     "text": [
      "No initial offset\n",
      "End offset applied\n"
     ]
    }
   ],
   "source": [
    "json_data, eeg_data = tools.load_data(session, desktop)"
   ]
  },
  {
   "cell_type": "code",
   "execution_count": 4,
   "id": "85a14a1e",
   "metadata": {},
   "outputs": [
    {
     "name": "stdout",
     "output_type": "stream",
     "text": [
      "Trial 1 gamble 20 not submitted at this round\n",
      "Timestamps ready\n"
     ]
    }
   ],
   "source": [
    "df = tools.create_dataframe(session, desktop, json_data, eeg_data)"
   ]
  },
  {
   "cell_type": "code",
   "execution_count": 5,
   "id": "da71d7fe",
   "metadata": {},
   "outputs": [
    {
     "data": {
      "text/html": [
       "<div>\n",
       "<style scoped>\n",
       "    .dataframe tbody tr th:only-of-type {\n",
       "        vertical-align: middle;\n",
       "    }\n",
       "\n",
       "    .dataframe tbody tr th {\n",
       "        vertical-align: top;\n",
       "    }\n",
       "\n",
       "    .dataframe thead th {\n",
       "        text-align: right;\n",
       "    }\n",
       "</style>\n",
       "<table border=\"1\" class=\"dataframe\">\n",
       "  <thead>\n",
       "    <tr style=\"text-align: right;\">\n",
       "      <th></th>\n",
       "      <th>desktop</th>\n",
       "      <th>session</th>\n",
       "      <th>gamble number</th>\n",
       "      <th>condition</th>\n",
       "      <th>ambiguity</th>\n",
       "      <th>eeg</th>\n",
       "    </tr>\n",
       "  </thead>\n",
       "  <tbody>\n",
       "    <tr>\n",
       "      <th>0</th>\n",
       "      <td>U9TEJGM</td>\n",
       "      <td>1005_1600</td>\n",
       "      <td>52</td>\n",
       "      <td>computer</td>\n",
       "      <td>6</td>\n",
       "      <td>[[-10.708886, -10.843139, -9.853341, -10.36450...</td>\n",
       "    </tr>\n",
       "    <tr>\n",
       "      <th>1</th>\n",
       "      <td>U9TEJGM</td>\n",
       "      <td>1005_1600</td>\n",
       "      <td>66</td>\n",
       "      <td>computer</td>\n",
       "      <td>6</td>\n",
       "      <td>[[1.9439867, 1.6896319, 0.73470926, -0.2926182...</td>\n",
       "    </tr>\n",
       "    <tr>\n",
       "      <th>2</th>\n",
       "      <td>U9TEJGM</td>\n",
       "      <td>1005_1600</td>\n",
       "      <td>11</td>\n",
       "      <td>social</td>\n",
       "      <td>0</td>\n",
       "      <td>[[-19.345016, -24.626297, -29.127548, -23.4733...</td>\n",
       "    </tr>\n",
       "    <tr>\n",
       "      <th>3</th>\n",
       "      <td>U9TEJGM</td>\n",
       "      <td>1005_1600</td>\n",
       "      <td>2</td>\n",
       "      <td>social</td>\n",
       "      <td>0</td>\n",
       "      <td>[[-6.8879914, -10.239712, -11.738917, -11.5434...</td>\n",
       "    </tr>\n",
       "    <tr>\n",
       "      <th>4</th>\n",
       "      <td>U9TEJGM</td>\n",
       "      <td>1005_1600</td>\n",
       "      <td>29</td>\n",
       "      <td>social</td>\n",
       "      <td>3</td>\n",
       "      <td>[[-28.588291, -29.787819, -30.591528, -30.9867...</td>\n",
       "    </tr>\n",
       "  </tbody>\n",
       "</table>\n",
       "</div>"
      ],
      "text/plain": [
       "   desktop    session  gamble number condition  ambiguity  \\\n",
       "0  U9TEJGM  1005_1600             52  computer          6   \n",
       "1  U9TEJGM  1005_1600             66  computer          6   \n",
       "2  U9TEJGM  1005_1600             11    social          0   \n",
       "3  U9TEJGM  1005_1600              2    social          0   \n",
       "4  U9TEJGM  1005_1600             29    social          3   \n",
       "\n",
       "                                                 eeg  \n",
       "0  [[-10.708886, -10.843139, -9.853341, -10.36450...  \n",
       "1  [[1.9439867, 1.6896319, 0.73470926, -0.2926182...  \n",
       "2  [[-19.345016, -24.626297, -29.127548, -23.4733...  \n",
       "3  [[-6.8879914, -10.239712, -11.738917, -11.5434...  \n",
       "4  [[-28.588291, -29.787819, -30.591528, -30.9867...  "
      ]
     },
     "execution_count": 5,
     "metadata": {},
     "output_type": "execute_result"
    }
   ],
   "source": [
    "df.head()"
   ]
  },
  {
   "cell_type": "code",
   "execution_count": null,
   "id": "d03303a9",
   "metadata": {},
   "outputs": [],
   "source": []
  }
 ],
 "metadata": {
  "kernelspec": {
   "display_name": "Python 3 (ipykernel)",
   "language": "python",
   "name": "python3"
  },
  "language_info": {
   "codemirror_mode": {
    "name": "ipython",
    "version": 3
   },
   "file_extension": ".py",
   "mimetype": "text/x-python",
   "name": "python",
   "nbconvert_exporter": "python",
   "pygments_lexer": "ipython3",
   "version": "3.9.12"
  }
 },
 "nbformat": 4,
 "nbformat_minor": 5
}
